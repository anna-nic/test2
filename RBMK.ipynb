{
 "cells": [
  {
   "cell_type": "code",
   "execution_count": 1,
   "id": "b41b22ef",
   "metadata": {},
   "outputs": [],
   "source": [
    "# Update test\n",
    "%matplotlib inline\n",
    "from math import pi, sin, cos, sqrt\n",
    "import numpy as np\n",
    "import openmc"
   ]
  },
  {
   "cell_type": "code",
   "execution_count": 2,
   "id": "723eedb5",
   "metadata": {},
   "outputs": [],
   "source": [
    "# Materials definitions\n",
    "\n",
    "fuel = openmc.Material(name='2.0% Fuel')\n",
    "fuel.add_element('U', 0.995, enrichment=2.0)\n",
    "fuel.add_element('Er', 0.005)\n",
    "fuel.add_nuclide('O16', 2.0)\n",
    "fuel.set_density('g/cm3', 10.400)\n",
    "\n",
    "zircaloy = openmc.Material(name='Zircaloy')\n",
    "zircaloy.add_element('Zr', 0.99)\n",
    "zircaloy.add_element('Nb', 0.01)\n",
    "zircaloy.set_density('g/cm3', 8.59)\n",
    "\n",
    "wall = openmc.Material(name='Carrier Rod Material')\n",
    "wall.add_element('Zr', 0.975)\n",
    "wall.add_element('Nb', 0.025)\n",
    "wall.set_density('g/cm3', 8.59)\n",
    "\n",
    "helium = openmc.Material(name='Helium')\n",
    "helium.add_element('He', 1)\n",
    "helium.set_density('g/cm3', 0.178)\n",
    "\n",
    "# Instantiate a Materials collection and export to xml\n",
    "materials_file = openmc.Materials([fuel, zircaloy, helium, wall])\n",
    "materials_file.export_to_xml()"
   ]
  },
  {
   "cell_type": "code",
   "execution_count": 3,
   "id": "77f4c73f",
   "metadata": {},
   "outputs": [],
   "source": [
    "# Geometry definitions for the fuel rod\n",
    "\n",
    "#Making the boundary planes for the sleeves\n",
    "sleeve_min_z = openmc.ZPlane(z0=-12)\n",
    "sleeve_max_z = openmc.ZPlane(z0=+12)\n",
    "\n",
    "# Create cylinders for the fuel and clad\n",
    "fuel_inner_radius = openmc.ZCylinder(r=0.55)\n",
    "fuel_outer_radius = openmc.ZCylinder(r=0.566)\n",
    "clad_inner_radius = openmc.ZCylinder(r=0.596)\n",
    "clad_outer_radius = openmc.ZCylinder(r=0.68)\n",
    "\n",
    "# Create a universe to encapsulate a fuel rod\n",
    "pin_cell_universe = openmc.Universe(name='2.0% Fuel Pin') \n",
    "\n",
    "# Create fuel cell\n",
    "fuel_cell_top = openmc.Cell(name='2.0% Fuel')\n",
    "fuel_cell_top.fill = fuel\n",
    "fuel_cell_top.region = -fuel_inner_radius & +sleeve_max_z\n",
    "pin_cell_universe.add_cell(fuel_cell_top)\n",
    "\n",
    "# Create void space\n",
    "void_space_top = openmc.Cell(name='empty_space')\n",
    "void_space_top.fill = helium\n",
    "void_space_top.region = +fuel_inner_radius & -clad_inner_radius & +sleeve_max_z\n",
    "pin_cell_universe.add_cell(void_space_top)\n",
    "\n",
    "# Create a clad cell\n",
    "clad_cell_top = openmc.Cell(name='2.0% Clad')\n",
    "clad_cell_top.fill = zircaloy\n",
    "clad_cell_top.region = +clad_inner_radius & -clad_outer_radius & +sleeve_max_z\n",
    "pin_cell_universe.add_cell(clad_cell_top)\n",
    "\n",
    "# Create fuel cell\n",
    "fuel_cell_bot = openmc.Cell(name='2.0% Fuel')\n",
    "fuel_cell_bot.fill = fuel\n",
    "fuel_cell_bot.region = -fuel_inner_radius & -sleeve_min_z\n",
    "pin_cell_universe.add_cell(fuel_cell_bot)\n",
    "\n",
    "# Create void space\n",
    "void_space_bot = openmc.Cell(name='empty_space')\n",
    "void_space_bot.fill = helium\n",
    "void_space_bot.region = +fuel_inner_radius & -clad_inner_radius & -sleeve_min_z\n",
    "pin_cell_universe.add_cell(void_space_bot)\n",
    "\n",
    "# Create a clad cell\n",
    "clad_cell_bot = openmc.Cell(name='2.0% Clad')\n",
    "clad_cell_bot.fill = zircaloy\n",
    "clad_cell_bot.region = +clad_inner_radius & -clad_outer_radius & -sleeve_min_z\n",
    "pin_cell_universe.add_cell(clad_cell_bot)\n",
    "\n",
    "# Create an outside of pin cell\n",
    "moderator = openmc.Cell(name='Moderator')\n",
    "moderator.fill = helium\n",
    "moderator.region = +clad_outer_radius\n",
    "pin_cell_universe.add_cell(moderator)\n",
    "\n",
    "# Create a 'sleeve' cell that slices through the middle of the elongated element\n",
    "sleeve_cell = openmc.Cell(name='Sleeve')\n",
    "sleeve_cell.fill = helium\n",
    "sleeve_cell.region = -clad_outer_radius & +sleeve_min_z & -sleeve_max_z\n",
    "pin_cell_universe.add_cell(sleeve_cell)"
   ]
  },
  {
   "cell_type": "code",
   "execution_count": 4,
   "id": "624d5993",
   "metadata": {},
   "outputs": [],
   "source": [
    "# Geometry definitions for the fuel rod\n",
    "\n",
    "rod_inner_radius = openmc.ZCylinder(r=0.75) \n",
    "rod_outer_radius = openmc.ZCylinder(r=0.7625)\n",
    "\n",
    "rod_cell_universe = openmc.Universe(name='Carrier Rod')\n",
    "\n",
    "inner_rod = openmc.Cell(name='Inner Rod')\n",
    "inner_rod.fill = helium\n",
    "inner_rod.region = -rod_inner_radius\n",
    "rod_cell_universe.add_cell(inner_rod)\n",
    "\n",
    "outer_rod = openmc.Cell(name='Outer Rod')\n",
    "outer_rod.fill = wall\n",
    "outer_rod.region = +rod_inner_radius & -rod_outer_radius\n",
    "rod_cell_universe.add_cell(outer_rod)"
   ]
  },
  {
   "cell_type": "code",
   "execution_count": 5,
   "id": "413fa7d3",
   "metadata": {},
   "outputs": [],
   "source": [
    "# Create a circular Lattice for the bundle\n",
    "\n",
    "element_min_z = openmc.ZPlane(z0=-364, boundary_type='reflective')\n",
    "element_max_z = openmc.ZPlane(z0=+364, boundary_type='reflective')\n",
    "carrier_min_z = openmc.ZPlane(z0=-400, boundary_type='reflective')\n",
    "carrier_max_z = openmc.ZPlane(z0=+600, boundary_type='reflective')\n",
    "\n",
    "circlat = openmc.Universe(name='Circular Lattice')\n",
    "\n",
    "channel = openmc.ZCylinder(r=4.5, boundary_type='reflective')\n",
    "\n",
    "channel_cell = openmc.Cell(name='Channel')\n",
    "channel_cell.fill = helium\n",
    "channel_cell.region = -channel & +rod_outer_radius & +element_min_z & -element_max_z\n",
    "\n",
    "#Calculations before finding pin placement\n",
    "r_channel = 4.0\n",
    "r_element = 0.68\n",
    "r_outer = r_channel-r_element\n",
    "\n",
    "padding = pi*r_outer/6-2*r_element\n",
    "r_inner = r_outer*cos(pi/12)-sqrt((r_element*2+padding)**2-(r_element+padding)**2)"
   ]
  },
  {
   "cell_type": "code",
   "execution_count": 6,
   "id": "49a6f0ae",
   "metadata": {},
   "outputs": [],
   "source": [
    "# Add the fuel pins into the channel\n",
    "\n",
    "num_in_rings = [6, 12]\n",
    "radii = [r_inner, r_outer]\n",
    "angles = [0, pi/12]\n",
    "\n",
    "for index, elem_num in enumerate(num_in_rings):\n",
    "  ring_radius = radii[index]\n",
    "  theta_0 = angles[index]\n",
    "  theta = 2*pi/elem_num\n",
    "  for element in range(elem_num):\n",
    "    x = ring_radius*cos(element*theta + theta_0)\n",
    "    y = ring_radius*sin(element*theta + theta_0)\n",
    "\n",
    "    pin_boundary = openmc.ZCylinder(x0=x, y0=y, r=r_element)\n",
    "    pin = openmc.Cell(fill=pin_cell_universe, region=-pin_boundary & +element_min_z & -element_max_z)\n",
    "    pin.translation = (x,y,0)\n",
    "    pin.id = (index+1)*100 + element\n",
    "    channel_cell.region &= ~pin.region\n",
    "    circlat.add_cell(pin)"
   ]
  },
  {
   "cell_type": "code",
   "execution_count": 7,
   "id": "e8729713",
   "metadata": {},
   "outputs": [],
   "source": [
    "# Add the 3 Components of the Carrier Rod\n",
    "rod_bound = openmc.ZCylinder(r=0.7625, boundary_type='reflective')\n",
    "rod_channel_min = openmc.ZPlane(z0=-364)\n",
    "rod_channel_max = openmc.ZPlane(z0=+364)\n",
    "\n",
    "rod_above = openmc.Cell(fill=rod_cell_universe, region=-rod_bound & -carrier_max_z & +rod_channel_max)\n",
    "rod_mid = openmc.Cell(fill=rod_cell_universe, region=-rod_outer_radius & +rod_channel_min & -rod_channel_max)\n",
    "rod_below = openmc.Cell(fill=rod_cell_universe, region=-rod_bound & -rod_channel_min & +carrier_min_z)\n",
    "\n",
    "circlat.add_cell(rod_above)\n",
    "circlat.add_cell(rod_mid)\n",
    "circlat.add_cell(rod_below)\n",
    "circlat.add_cell(channel_cell)"
   ]
  },
  {
   "cell_type": "code",
   "execution_count": 8,
   "id": "1b410599",
   "metadata": {},
   "outputs": [],
   "source": [
    "geometry = openmc.Geometry(circlat)\n",
    "geometry.export_to_xml()"
   ]
  },
  {
   "cell_type": "code",
   "execution_count": 9,
   "id": "e39e0af0",
   "metadata": {},
   "outputs": [
    {
     "data": {
      "text/plain": [
       "<Axes: xlabel='x [cm]', ylabel='y [cm]'>"
      ]
     },
     "execution_count": 9,
     "metadata": {},
     "output_type": "execute_result"
    },
    {
     "data": {
      "image/png": "[encoded data removed]",
      "text/plain": [
       "<Figure size 258.065x259.74 with 1 Axes>"
      ]
     },
     "metadata": {},
     "output_type": "display_data"
    }
   ],
   "source": [
    "circlat.plot(width=(12, 12), basis='xy')"
   ]
  }
 ],
 "metadata": {
  "kernelspec": {
   "display_name": "Python 3 (ipykernel)",
   "language": "python",
   "name": "python3"
  },
  "language_info": {
   "codemirror_mode": {
    "name": "ipython",
    "version": 3
   },
   "file_extension": ".py",
   "mimetype": "text/x-python",
   "name": "python",
   "nbconvert_exporter": "python",
   "pygments_lexer": "ipython3",
   "version": "3.11.2"
  }
 },
 "nbformat": 4,
 "nbformat_minor": 5
}
